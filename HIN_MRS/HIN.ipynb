{
  "nbformat": 4,
  "nbformat_minor": 0,
  "metadata": {
    "colab": {
      "provenance": []
    },
    "kernelspec": {
      "name": "python3",
      "display_name": "Python 3"
    },
    "language_info": {
      "name": "python"
    }
  },
  "cells": [
    {
      "cell_type": "code",
      "source": [
        "import json\n",
        "import heapq\n",
        "import networkx as nx"
      ],
      "metadata": {
        "id": "e2xuKZZlvyoN"
      },
      "execution_count": null,
      "outputs": []
    },
    {
      "cell_type": "code",
      "execution_count": null,
      "metadata": {
        "colab": {
          "base_uri": "https://localhost:8080/"
        },
        "id": "QIyPt3597Vn8",
        "outputId": "4644b850-de95-4359-fa68-a34dd78a660c"
      },
      "outputs": [
        {
          "output_type": "stream",
          "name": "stdout",
          "text": [
            "Total playlists: 1000\n",
            "Tracks: 34443\n",
            "Albums: 19261\n",
            "Artists: 9754\n",
            "Playlists: 1000\n",
            "Edges: 135607\n"
          ]
        }
      ],
      "source": [
        "#file_path = 'challenge_set.json'\n",
        "file_path = 'mpd.slice.0-999.json'\n",
        "\n",
        "#Read the data.\n",
        "if file_path == 'challenge_set.json':\n",
        "  with open(file_path, 'r') as file:\n",
        "      data = json.load(file)\n",
        "      del data['date']\n",
        "      del data['version']\n",
        "      #del data['name']\n",
        "      del data['description']\n",
        "elif file_path == 'mpd.slice.0-999.json':\n",
        "   with open(file_path, 'r') as file:\n",
        "      data = json.load(file)\n",
        "      del data['info']\n",
        "\n",
        "\n",
        "\n",
        "all_playlists = data['playlists'] #Extract the playlists.\n",
        "\n",
        "\n",
        "\n",
        "non_empty_playlists = [] # PLaylsits with moer than 3 tracks.\n",
        "\n",
        "tracks = set() #Track nodes\n",
        "albums = set() #Album nodes\n",
        "artists = set() #Artist nodes\n",
        "playlists = set() #Playlists nodes\n",
        "TP_edges = set() #Track-Playlist edges\n",
        "TA_edges = set() #Track-Artist edges\n",
        "TM_edges = set() #TRack-Album edges\n",
        "\n",
        "# Take the playlists with more than 3 songs.\n",
        "for current_playlist in all_playlists:\n",
        "    if len(current_playlist['tracks']) >= 3:\n",
        "        if 'name' in current_playlist:\n",
        "          del current_playlist['name']\n",
        "        for track in current_playlist['tracks']:\n",
        "          del track['pos']\n",
        "        non_empty_playlists.append(current_playlist)\n",
        "\n",
        "\n",
        "#Take the distinct nodes and edges for all type of entities.\n",
        "for current_playlist in non_empty_playlists:\n",
        "    playlists.add(current_playlist['pid'])\n",
        "    for track in current_playlist['tracks']:\n",
        "      tracks.add(track['track_uri'])\n",
        "      artists.add(track['artist_uri'])\n",
        "      albums.add(track['album_uri'])\n",
        "      TP_edges.add((current_playlist['pid'],track['track_uri']))\n",
        "      TM_edges.add((track['album_uri'],track['track_uri']))\n",
        "      TA_edges.add((track['artist_uri'],track['track_uri']))\n",
        "\n",
        "\n",
        "print(f'Total playlists: {len(all_playlists)}')\n",
        "print(f'Tracks: {len(tracks)}')\n",
        "print(f'Albums: {len(albums)}')\n",
        "print(f'Artists: {len(artists)}')\n",
        "print(f'Playlists: {len(playlists)}')\n",
        "print(f'Edges: {len(TP_edges) + len(TM_edges) + len(TA_edges)}')"
      ]
    },
    {
      "cell_type": "code",
      "source": [
        "het_graph = nx.Graph()\n",
        "TP_graph = nx.Graph()\n",
        "TA_graph = nx.Graph()\n",
        "TM_graph = nx.Graph()\n",
        "\n",
        "# Heterogeneous Threepartite Graph\n",
        "het_graph.add_nodes_from(tracks,bipartite=0)\n",
        "het_graph.add_nodes_from(playlists,bipartite=1)\n",
        "het_graph.add_nodes_from(albums,bipartite=2)\n",
        "het_graph.add_nodes_from(artists,bipartite=3)\n",
        "het_graph.add_edges_from(TP_edges|TA_edges|TM_edges)\n",
        "\n",
        "# TP Bipartite Graph\n",
        "TP_graph.add_nodes_from(tracks,bipartite=0)\n",
        "TP_graph.add_nodes_from(playlists,bipartite=1)\n",
        "TP_graph.add_edges_from(TP_edges)\n",
        "\n",
        "# TA Bipartite Graph\n",
        "TA_graph.add_nodes_from(tracks,bipartite=0)\n",
        "TA_graph.add_nodes_from(artists,bipartite=1)\n",
        "TA_graph.add_edges_from(TA_edges)\n",
        "\n",
        "# TM Bipartite Graph\n",
        "TM_graph.add_nodes_from(tracks,bipartite=0)\n",
        "TM_graph.add_nodes_from(albums,bipartite=1)\n",
        "TM_graph.add_edges_from(TM_edges)\n",
        "\n",
        "# Projection of het_graph to get graph with tracks only.\n",
        "T_graph = nx.projected_graph(het_graph, nodes=tracks)\n"
      ],
      "metadata": {
        "id": "lVzEVIn3OCuY"
      },
      "execution_count": null,
      "outputs": []
    },
    {
      "cell_type": "code",
      "source": [
        "if nx.bipartite.is_bipartite(het_graph):\n",
        "  print('true')\n",
        "else :print('false')\n",
        "\n",
        "if nx.bipartite.is_bipartite(TP_graph):\n",
        "  print('true')\n",
        "else :print('false')\n",
        "\n",
        "if nx.bipartite.is_bipartite(TA_graph):\n",
        "  print('true')\n",
        "else :print('false')\n",
        "\n",
        "if nx.bipartite.is_bipartite(TM_graph):\n",
        "  print('true')\n",
        "else :print('false')"
      ],
      "metadata": {
        "colab": {
          "base_uri": "https://localhost:8080/"
        },
        "id": "lL9FS9Wowx39",
        "outputId": "b09499d3-5a1f-4681-8cb9-17ba3559dc38"
      },
      "execution_count": null,
      "outputs": [
        {
          "output_type": "stream",
          "name": "stdout",
          "text": [
            "true\n",
            "true\n",
            "true\n",
            "true\n"
          ]
        }
      ]
    },
    {
      "cell_type": "code",
      "source": [
        "#Common playlists factor.\n",
        "def samePlay(t1,t2):\n",
        "  t1pl = set(TP_graph.neighbors(t1))\n",
        "  t2pl = set(TP_graph.neighbors(t2))\n",
        "  return len(t1pl & t2pl)\n",
        "\n",
        "#Common artists factor.\n",
        "def sameArtist(t1,t2):\n",
        "  t1art = set(TA_graph.neighbors(t1))\n",
        "  t2art = set(TA_graph.neighbors(t2))\n",
        "  return len(t1art & t2art)\n",
        "\n",
        "#Common album factor.\n",
        "def sameAlbum(t1,t2):\n",
        "  t1al = set(TM_graph.neighbors(t1))\n",
        "  t2al = set(TM_graph.neighbors(t2))\n",
        "  return len(t1al & t2al)\n",
        "\n",
        "T_edges = T_graph.edges()\n",
        "\n",
        "#Assign weight to edges.\n",
        "for edge in T_edges:\n",
        "    edge_weight = samePlay(edge[0],edge[1]) + sameArtist(edge[0],edge[1]) + sameAlbum(edge[0],edge[1])\n",
        "    T_graph.add_edge(edge[0],edge[1], weight=edge_weight)\n"
      ],
      "metadata": {
        "id": "vStQwlP73ZJE"
      },
      "execution_count": null,
      "outputs": []
    },
    {
      "cell_type": "code",
      "source": [
        "#Precision function.\n",
        "def precision(top_k,secondHalf):\n",
        "  top_k = set(top_k)\n",
        "  secondHalf = set(secondHalf)\n",
        "  return len(top_k & secondHalf)/len(secondHalf)"
      ],
      "metadata": {
        "id": "FqmkvkAo7Oa4"
      },
      "execution_count": null,
      "outputs": []
    },
    {
      "cell_type": "code",
      "source": [
        "test_playlists = non_empty_playlists[900:] # Predict the half last 100 playlists.\n",
        "avgpr = 0 #Average precision.\n",
        "for i,playlist in enumerate(test_playlists):\n",
        "  firstHalf = [track['track_uri'] for track in playlist['tracks'][:len(playlist['tracks']) // 2]]\n",
        "  secondHalf = [track['track_uri'] for track in playlist['tracks'][len(playlist['tracks']) // 2:]]\n",
        "  personalization_vector = {track : 1.0 for track in firstHalf} #User preference\n",
        "  personalized_pagerank = nx.pagerank(T_graph, personalization=personalization_vector, weight='weight')\n",
        "  max_heap = [(score, node) for node, score in personalized_pagerank.items()]\n",
        "  heapq.heapify(max_heap) #Heap to extract the top_K ranks.\n",
        "  k = len(secondHalf)\n",
        "  top_k = heapq.nlargest(k, max_heap)\n",
        "  top_k_tracks = [t[1] for t in top_k]\n",
        "  avgpr += precision(top_k_tracks,secondHalf)\n",
        "\n",
        "avgpr = avgpr/(i+1)\n",
        "print(avgpr)"
      ],
      "metadata": {
        "colab": {
          "base_uri": "https://localhost:8080/"
        },
        "id": "CdPtlKd242Vq",
        "outputId": "9685d9be-2e0c-45ff-a785-284c2026dfc1"
      },
      "execution_count": null,
      "outputs": [
        {
          "output_type": "stream",
          "name": "stdout",
          "text": [
            "0.03280495757394636\n"
          ]
        }
      ]
    }
  ]
}