{
 "cells": [
  {
   "cell_type": "code",
   "execution_count": 19,
   "metadata": {},
   "outputs": [],
   "source": [
    "import json\n",
    "\n",
    "file_path = '../data/spotify_million_playlist_dataset/data/mpd.slice.0-999.json'\n",
    "\n",
    "with open(file_path, 'r') as file:\n",
    "    data = json.load(file)\n",
    "\n",
    "playlists = data['playlists']\n",
    "playlist_track_mapping = {}"
   ]
  },
  {
   "cell_type": "code",
   "execution_count": 20,
   "metadata": {},
   "outputs": [],
   "source": [
    "def hash_string(string:str):\n",
    "    hash_len = 12\n",
    "    return hash(string) % 10**hash_len"
   ]
  },
  {
   "cell_type": "code",
   "execution_count": 21,
   "metadata": {},
   "outputs": [],
   "source": [
    "for playlist in playlists:\n",
    "    playlist_name = playlist['name']\n",
    "    tracks = playlist['tracks']\n",
    "    \n",
    "    for track in tracks:\n",
    "        track_name = track['track_name']\n",
    "        # the weight of all songs is 1 (rating)\n",
    "        playlist_track_key = f\"{hash_string(playlist_name)} {hash_string(track_name)} 1\"\n",
    "        \n",
    "        if playlist_track_key not in playlist_track_mapping:\n",
    "            playlist_track_mapping[playlist_track_key] = 1\n",
    "        else:\n",
    "            playlist_track_mapping[playlist_track_key] += 1"
   ]
  },
  {
   "cell_type": "code",
   "execution_count": 23,
   "metadata": {},
   "outputs": [],
   "source": [
    "with open('playlist_track_mapping.txt', 'w') as output_file:\n",
    "    for key, value in playlist_track_mapping.items():\n",
    "        output_file.write(f\"{key}\\n\")"
   ]
  },
  {
   "cell_type": "code",
   "execution_count": 26,
   "metadata": {},
   "outputs": [
    {
     "name": "stdout",
     "output_type": "stream",
     "text": [
      "9575 songs out of 30049\n"
     ]
    }
   ],
   "source": [
    "file_path = '../data/spotify_million_playlist_dataset/playlist_track_mapping.txt'\n",
    "\n",
    "song_occurrences = {}\n",
    "\n",
    "with open(file_path, 'r') as file:\n",
    "    for line in file:\n",
    "        _, song_id, count = map(int, line.split())\n",
    "        \n",
    "        if song_id not in song_occurrences:\n",
    "            song_occurrences[song_id] = count\n",
    "        else:\n",
    "            song_occurrences[song_id] += count\n",
    "\n",
    "n = 0\n",
    "for song_id, count in song_occurrences.items():\n",
    "    if count>1:\n",
    "        n+=1\n",
    "print(f\"{n} songs out of {len(song_occurrences.items())} occur more than one time\")"
   ]
  }
 ],
 "metadata": {
  "kernelspec": {
   "display_name": "elenienv",
   "language": "python",
   "name": "python3"
  },
  "language_info": {
   "codemirror_mode": {
    "name": "ipython",
    "version": 3
   },
   "file_extension": ".py",
   "mimetype": "text/x-python",
   "name": "python",
   "nbconvert_exporter": "python",
   "pygments_lexer": "ipython3",
   "version": "3.11.5"
  }
 },
 "nbformat": 4,
 "nbformat_minor": 2
}
